{
 "cells": [
  {
   "cell_type": "code",
   "execution_count": 1,
   "id": "e5e961f2",
   "metadata": {},
   "outputs": [],
   "source": [
    "from Maze import Maze\n",
    "from Hero import Hero"
   ]
  },
  {
   "cell_type": "code",
   "execution_count": 2,
   "id": "a2e619e2",
   "metadata": {},
   "outputs": [],
   "source": [
    "def main_shit():\n",
    "    maze = Maze(4, 4)\n",
    "    hero = Hero(maze)\n",
    "    \n",
    "    print(\"set up complete\")\n",
    "    \n",
    "    running = True\n",
    "    while running:\n",
    "        hero.move()"
   ]
  },
  {
   "cell_type": "code",
   "execution_count": null,
   "id": "d831ae29",
   "metadata": {},
   "outputs": [
    {
     "name": "stdout",
     "output_type": "stream",
     "text": [
      "start render\n",
      "14.37344741821289\n",
      "finish render\n",
      "set up complete\n"
     ]
    }
   ],
   "source": [
    "main_shit()"
   ]
  }
 ],
 "metadata": {
  "kernelspec": {
   "display_name": "Python 3 (ipykernel)",
   "language": "python",
   "name": "python3"
  },
  "language_info": {
   "codemirror_mode": {
    "name": "ipython",
    "version": 3
   },
   "file_extension": ".py",
   "mimetype": "text/x-python",
   "name": "python",
   "nbconvert_exporter": "python",
   "pygments_lexer": "ipython3",
   "version": "3.11.0"
  }
 },
 "nbformat": 4,
 "nbformat_minor": 5
}
