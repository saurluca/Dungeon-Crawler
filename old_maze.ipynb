{
 "cells": [
  {
   "cell_type": "code",
   "execution_count": 1,
   "id": "25b1adac",
   "metadata": {},
   "outputs": [],
   "source": [
    "from random import randint, choice\n",
    "from algoviz.svg import SVGView, Rect"
   ]
  },
  {
   "cell_type": "code",
   "execution_count": 2,
   "id": "21247b83",
   "metadata": {},
   "outputs": [],
   "source": [
    "# generates a maze using prims algoithm\n",
    "# \"#\" represents a wall, \".\" a free tile\n",
    "def generate_maze(length_y=15, length_x=15):\n",
    "    # sets up a maze full of walls\n",
    "    maze = [[\"#\" for i in range(length_x)] for _ in range(length_y)]\n",
    "    \n",
    "    # sets one cell as open, that is not on the edge\n",
    "    pos = [randint(1, length_y - 2), randint(1, length_x - 2)]\n",
    "    maze[pos[0]][pos[1]] = \".\"\n",
    "    \n",
    "    # list of walls adjacent to an open cells, that need to be looked at\n",
    "    frontier_lst = [[pos[0] + 1, pos[1]], [pos[0] - 1, pos[1]], [pos[0], pos[1] + 1], [pos[0], pos[1] - 1]]\n",
    "    \n",
    "    # checks a wall in frontier list\n",
    "    while frontier_lst:\n",
    "        # chooses a random cell/wall from the frontier list\n",
    "        cell = choice(frontier_lst)\n",
    "        y = cell[0]\n",
    "        x = cell[1]\n",
    "        lst = []\n",
    "        neighbors = 0\n",
    "        \n",
    "        # checks for number of neighboring open cells\n",
    "        if y < length_y - 1:\n",
    "            lst.append([y + 1, x])\n",
    "            if maze[y + 1][x] == \".\":\n",
    "                neighbors += 1\n",
    "\n",
    "        if y > 0:\n",
    "            lst.append([y - 1, x])\n",
    "            if maze[y - 1][x] == \".\":\n",
    "                neighbors += 1\n",
    "\n",
    "        if x < length_x - 1:\n",
    "            lst.append([y, x + 1])\n",
    "            if maze[y][x + 1] == \".\":\n",
    "                neighbors += 1\n",
    "\n",
    "        if x > 0:\n",
    "            lst.append([y, x - 1])\n",
    "            if maze[y][x - 1] == \".\":\n",
    "                neighbors += 1\n",
    "        \n",
    "        # if that wall has excatly one neighbour, make it an open cell\n",
    "        # and at it's neighboring walls to the frontier list\n",
    "        if neighbors == 1:\n",
    "            frontier_lst = frontier_lst + lst\n",
    "            maze[y][x] = \".\"\n",
    "        \n",
    "        frontier_lst.remove(cell)\n",
    "\n",
    "    #     may be used for random positions in the maze\n",
    "    #     start = choice([i for i in range(lengthX) if grid[0][i] == \".\"])\n",
    "    #     grid[0][start] = \"S\"\n",
    "\n",
    "    return maze"
   ]
  },
  {
   "cell_type": "code",
   "execution_count": 3,
   "id": "3313cd02",
   "metadata": {},
   "outputs": [],
   "source": [
    "# outputs the maze in the console as a string\n",
    "def print_out(maze):\n",
    "    for lines in maze:\n",
    "        for tile in lines:\n",
    "            print(field, end=\"\")\n",
    "        print(\"\")\n",
    "    print(\"\")"
   ]
  },
  {
   "cell_type": "code",
   "execution_count": 4,
   "id": "8d0d8637",
   "metadata": {},
   "outputs": [],
   "source": [
    "def render(maze):\n",
    "    black = (0, 0, 0)\n",
    "    gray = (143, 143, 143)\n",
    "    tile_size = 20\n",
    "    size_x = len(maze[0])\n",
    "    size_y = len(maze)\n",
    "    \n",
    "    # sets up drawing board and view\n",
    "    drawing_board = [[0 for i in range(size_x)] for _ in range(size_y)]\n",
    "    view = SVGView(size_x * tile_size + 8, size_y * tile_size + 8, \"View\")\n",
    "\n",
    "    # background, used as wall texture\n",
    "    base = Rect(0, 0, size_x * tile_size + 8, size_y * tile_size + 8, view)\n",
    "    # colour of walls/background\n",
    "    #     base.set_fill_rgb(*gray)\n",
    "    \n",
    "    # goes through every tile in the maze and checks what it needs to render\n",
    "    for y in range(size_y):\n",
    "        for x in range(size_x):\n",
    "            symbol = maze[y][x]\n",
    "            \n",
    "            # renders in open tiles\n",
    "            if symbol == \".\":\n",
    "                drawing_board[y][x] = Rect(x * tile_size + 4, y * tile_size + 4, tile_size, tile_size, view)\n",
    "                drawing_board[y][x].set_fill_rgb(*gray)\n",
    "    #             if symbol == \"#\":\n",
    "    #                 pass\n",
    "    #                drawing_board[y][x].set_fill_rgb()\n",
    "    \n",
    "    # to keep it on screen\n",
    "    while True:\n",
    "        pass"
   ]
  },
  {
   "cell_type": "code",
   "execution_count": null,
   "id": "996dc406",
   "metadata": {},
   "outputs": [],
   "source": [
    "if __name__ == '__main__':\n",
    "    maze = generate_maze()\n",
    "    render(maze)"
   ]
  },
  {
   "cell_type": "code",
   "execution_count": null,
   "id": "0d73cb8c",
   "metadata": {},
   "outputs": [],
   "source": []
  },
  {
   "cell_type": "code",
   "execution_count": null,
   "id": "9f99ea9d",
   "metadata": {},
   "outputs": [],
   "source": []
  }
 ],
 "metadata": {
  "kernelspec": {
   "display_name": "Python 3 (ipykernel)",
   "language": "python",
   "name": "python3"
  },
  "language_info": {
   "codemirror_mode": {
    "name": "ipython",
    "version": 3
   },
   "file_extension": ".py",
   "mimetype": "text/x-python",
   "name": "python",
   "nbconvert_exporter": "python",
   "pygments_lexer": "ipython3",
   "version": "3.11.0"
  }
 },
 "nbformat": 4,
 "nbformat_minor": 5
}
