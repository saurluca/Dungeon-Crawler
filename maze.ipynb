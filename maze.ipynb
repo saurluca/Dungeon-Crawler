{
 "cells": [
  {
   "cell_type": "code",
   "execution_count": 1,
   "id": "1ddc43ff",
   "metadata": {},
   "outputs": [],
   "source": [
    "from random import randint, choice"
   ]
  },
  {
   "cell_type": "code",
   "execution_count": 2,
   "id": "d8a1132e",
   "metadata": {},
   "outputs": [
    {
     "ename": "SyntaxError",
     "evalue": "expected ':' (4159697813.py, line 2)",
     "output_type": "error",
     "traceback": [
      "\u001b[0;36m  Cell \u001b[0;32mIn[2], line 2\u001b[0;36m\u001b[0m\n\u001b[0;31m    def __init__(length_x, length_y)\u001b[0m\n\u001b[0m                                    ^\u001b[0m\n\u001b[0;31mSyntaxError\u001b[0m\u001b[0;31m:\u001b[0m expected ':'\n"
     ]
    }
   ],
   "source": [
    "class Maze:\n",
    "    def __init__(self, length_x=12, length_y=12):\n",
    "        self.maze = []\n",
    "        self.length_x = length_x\n",
    "        self.length_y = length_y\n",
    "\n",
    "    # generates a maze using prims algorithm\n",
    "    # \"#\" represents a wall, \".\" a free tile\n",
    "    def generate_maze(self):\n",
    "        # sets up a maze full of walls\n",
    "        maze = [[\"#\" for i in range(self.length_x)] for _ in range(self.length_y)]\n",
    "\n",
    "        # sets one cell as open, that is not on the edge\n",
    "        pos = [randint(1, self.length_y - 2), randint(1, self.length_x - 2)]\n",
    "        maze[pos[0]][pos[1]] = \".\"\n",
    "\n",
    "        # list of walls adjacent to an open cells, that need to be looked at\n",
    "        frontier_lst = [[pos[0] + 1, pos[1]], [pos[0] - 1, pos[1]], [pos[0], pos[1] + 1], [pos[0], pos[1] - 1]]\n",
    "\n",
    "        # checks a wall in frontier list\n",
    "        while frontier_lst:\n",
    "            # chooses a random cell/wall from the frontier list\n",
    "            cell = choice(frontier_lst)\n",
    "            y = cell[0]\n",
    "            x = cell[1]\n",
    "            lst = []\n",
    "            neighbors = 0\n",
    "\n",
    "            # checks for number of neighboring open cells\n",
    "            if y < self.length_y - 1:\n",
    "                lst.append([y + 1, x])\n",
    "                if maze[y + 1][x] == \".\":\n",
    "                    neighbors += 1\n",
    "\n",
    "            if y > 0:\n",
    "                lst.append([y - 1, x])\n",
    "                if maze[y - 1][x] == \".\":\n",
    "                    neighbors += 1\n",
    "\n",
    "            if x < self.length_x - 1:\n",
    "                lst.append([y, x + 1])\n",
    "                if maze[y][x + 1] == \".\":\n",
    "                    neighbors += 1\n",
    "\n",
    "            if x > 0:\n",
    "                lst.append([y, x - 1])\n",
    "                if maze[y][x - 1] == \".\":\n",
    "                    neighbors += 1\n",
    "\n",
    "            # if that wall has exactly one neighbour, make it an open cell\n",
    "            # and at it's neighboring walls to the frontier list\n",
    "            if neighbors == 1:\n",
    "                frontier_lst = frontier_lst + lst\n",
    "                maze[y][x] = \".\"\n",
    "\n",
    "            frontier_lst.remove(cell)\n",
    "\n",
    "        #     may be used for random positions in the maze\n",
    "        start = choice([i for i in range(self.length_x) if maze[0][i] == \".\"])\n",
    "        maze[0][start] = \"H\"\n",
    "\n",
    "        self.maze = maze\n",
    "\n",
    "    # outputs the maze in the console as a string\n",
    "    def print_out(self):\n",
    "        for lines in self.maze:\n",
    "            for tile in lines:\n",
    "                print(tile, end=\"\")\n",
    "            print(\"\")\n",
    "        print(\"\")\n",
    "\n",
    "    def get_maze(self):\n",
    "        return self.maze"
   ]
  }
 ],
 "metadata": {
  "kernelspec": {
   "display_name": "Python 3 (ipykernel)",
   "language": "python",
   "name": "python3"
  },
  "language_info": {
   "codemirror_mode": {
    "name": "ipython",
    "version": 3
   },
   "file_extension": ".py",
   "mimetype": "text/x-python",
   "name": "python",
   "nbconvert_exporter": "python",
   "pygments_lexer": "ipython3",
   "version": "3.11.0"
  }
 },
 "nbformat": 4,
 "nbformat_minor": 5
}
